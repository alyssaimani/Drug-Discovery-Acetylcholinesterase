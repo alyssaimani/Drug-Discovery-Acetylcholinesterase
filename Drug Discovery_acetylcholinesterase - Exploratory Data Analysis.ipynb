{
 "cells": [
  {
   "cell_type": "markdown",
   "metadata": {
    "id": "kpAxzp7oL5-R"
   },
   "source": [
    "# **Install Conda and rdkit**"
   ]
  },
  {
   "cell_type": "code",
   "execution_count": 3,
   "metadata": {},
   "outputs": [
    {
     "name": "stdout",
     "output_type": "stream",
     "text": [
      "Collecting seaborn\n",
      "  Using cached seaborn-0.11.2-py3-none-any.whl (292 kB)\n",
      "Collecting scipy>=1.0\n",
      "  Using cached scipy-1.8.1-cp310-cp310-win_amd64.whl (36.9 MB)\n",
      "Requirement already satisfied: numpy>=1.15 in c:\\users\\alyss\\anaconda3\\envs\\my-rdkit-env\\lib\\site-packages (from seaborn) (1.23.1)\n",
      "Requirement already satisfied: matplotlib>=2.2 in c:\\users\\alyss\\anaconda3\\envs\\my-rdkit-env\\lib\\site-packages (from seaborn) (3.5.2)\n",
      "Requirement already satisfied: pandas>=0.23 in c:\\users\\alyss\\anaconda3\\envs\\my-rdkit-env\\lib\\site-packages (from seaborn) (1.4.3)\n",
      "Requirement already satisfied: fonttools>=4.22.0 in c:\\users\\alyss\\anaconda3\\envs\\my-rdkit-env\\lib\\site-packages (from matplotlib>=2.2->seaborn) (4.34.4)\n",
      "Requirement already satisfied: packaging>=20.0 in c:\\users\\alyss\\anaconda3\\envs\\my-rdkit-env\\lib\\site-packages (from matplotlib>=2.2->seaborn) (21.3)\n",
      "Requirement already satisfied: pyparsing>=2.2.1 in c:\\users\\alyss\\anaconda3\\envs\\my-rdkit-env\\lib\\site-packages (from matplotlib>=2.2->seaborn) (3.0.9)\n",
      "Requirement already satisfied: cycler>=0.10 in c:\\users\\alyss\\anaconda3\\envs\\my-rdkit-env\\lib\\site-packages (from matplotlib>=2.2->seaborn) (0.11.0)\n",
      "Requirement already satisfied: python-dateutil>=2.7 in c:\\users\\alyss\\anaconda3\\envs\\my-rdkit-env\\lib\\site-packages (from matplotlib>=2.2->seaborn) (2.8.2)\n",
      "Requirement already satisfied: pillow>=6.2.0 in c:\\users\\alyss\\anaconda3\\envs\\my-rdkit-env\\lib\\site-packages (from matplotlib>=2.2->seaborn) (9.2.0)\n",
      "Requirement already satisfied: kiwisolver>=1.0.1 in c:\\users\\alyss\\anaconda3\\envs\\my-rdkit-env\\lib\\site-packages (from matplotlib>=2.2->seaborn) (1.4.4)\n",
      "Requirement already satisfied: pytz>=2020.1 in c:\\users\\alyss\\anaconda3\\envs\\my-rdkit-env\\lib\\site-packages (from pandas>=0.23->seaborn) (2022.1)\n",
      "Requirement already satisfied: six>=1.5 in c:\\users\\alyss\\anaconda3\\envs\\my-rdkit-env\\lib\\site-packages (from python-dateutil>=2.7->matplotlib>=2.2->seaborn) (1.16.0)\n",
      "Installing collected packages: scipy, seaborn\n",
      "Successfully installed scipy-1.8.1 seaborn-0.11.2\n"
     ]
    }
   ],
   "source": [
    "! pip install seaborn"
   ]
  },
  {
   "cell_type": "code",
   "execution_count": 6,
   "metadata": {
    "colab": {
     "base_uri": "https://localhost:8080/"
    },
    "executionInfo": {
     "elapsed": 56009,
     "status": "ok",
     "timestamp": 1656514521487,
     "user": {
      "displayName": "Alyssa Imani",
      "userId": "15748760200900969572"
     },
     "user_tz": -420
    },
    "id": "09ntBuyXLqec",
    "outputId": "8be1f414-4b62-4b2f-e0d4-2ad8852a0db3"
   },
   "outputs": [],
   "source": [
    "import sys\n",
    "sys.path.append('/usr/local/lib/python3.7/site-packages/')"
   ]
  },
  {
   "cell_type": "code",
   "execution_count": 7,
   "metadata": {
    "id": "CyruTBLkMIP_"
   },
   "outputs": [],
   "source": [
    "import pandas as pd\n",
    "df = pd.read_csv(\"bioactivity_preprocessed_data_acetylcholinesterase.csv\");"
   ]
  },
  {
   "cell_type": "markdown",
   "metadata": {
    "id": "kh-U2dq5EEXX"
   },
   "source": [
    "# **Take the Longest Canonical Smiles**"
   ]
  },
  {
   "cell_type": "code",
   "execution_count": 8,
   "metadata": {
    "id": "NKrBjfgWEDrn"
   },
   "outputs": [],
   "source": [
    "smiles = []\n",
    "\n",
    "for i in df.canonical_smiles.tolist():\n",
    "  cpd = str(i).split('.')\n",
    "  cpd_longest = max(cpd, key = len)\n",
    "  smiles.append(cpd_longest)\n",
    "\n",
    "smiles = pd.Series(smiles, name = 'canonical_smiles')"
   ]
  },
  {
   "cell_type": "code",
   "execution_count": 9,
   "metadata": {
    "colab": {
     "base_uri": "https://localhost:8080/",
     "height": 423
    },
    "executionInfo": {
     "elapsed": 711,
     "status": "ok",
     "timestamp": 1656517950232,
     "user": {
      "displayName": "Alyssa Imani",
      "userId": "15748760200900969572"
     },
     "user_tz": -420
    },
    "id": "RYOOY-iKFLvn",
    "outputId": "a9afb6f1-832c-4fb7-a522-bc9f138f595d"
   },
   "outputs": [
    {
     "data": {
      "text/html": [
       "<div>\n",
       "<style scoped>\n",
       "    .dataframe tbody tr th:only-of-type {\n",
       "        vertical-align: middle;\n",
       "    }\n",
       "\n",
       "    .dataframe tbody tr th {\n",
       "        vertical-align: top;\n",
       "    }\n",
       "\n",
       "    .dataframe thead th {\n",
       "        text-align: right;\n",
       "    }\n",
       "</style>\n",
       "<table border=\"1\" class=\"dataframe\">\n",
       "  <thead>\n",
       "    <tr style=\"text-align: right;\">\n",
       "      <th></th>\n",
       "      <th>molecule_chembl_id</th>\n",
       "      <th>standard_value</th>\n",
       "      <th>bioactivity_class</th>\n",
       "    </tr>\n",
       "  </thead>\n",
       "  <tbody>\n",
       "    <tr>\n",
       "      <th>0</th>\n",
       "      <td>CHEMBL133897</td>\n",
       "      <td>750.0</td>\n",
       "      <td>active</td>\n",
       "    </tr>\n",
       "    <tr>\n",
       "      <th>1</th>\n",
       "      <td>CHEMBL336398</td>\n",
       "      <td>100.0</td>\n",
       "      <td>active</td>\n",
       "    </tr>\n",
       "    <tr>\n",
       "      <th>2</th>\n",
       "      <td>CHEMBL131588</td>\n",
       "      <td>50000.0</td>\n",
       "      <td>inactive</td>\n",
       "    </tr>\n",
       "    <tr>\n",
       "      <th>3</th>\n",
       "      <td>CHEMBL130628</td>\n",
       "      <td>300.0</td>\n",
       "      <td>active</td>\n",
       "    </tr>\n",
       "    <tr>\n",
       "      <th>4</th>\n",
       "      <td>CHEMBL130478</td>\n",
       "      <td>800.0</td>\n",
       "      <td>active</td>\n",
       "    </tr>\n",
       "    <tr>\n",
       "      <th>...</th>\n",
       "      <td>...</td>\n",
       "      <td>...</td>\n",
       "      <td>...</td>\n",
       "    </tr>\n",
       "    <tr>\n",
       "      <th>3592</th>\n",
       "      <td>CHEMBL3752451</td>\n",
       "      <td>424.0</td>\n",
       "      <td>intermediate</td>\n",
       "    </tr>\n",
       "    <tr>\n",
       "      <th>3593</th>\n",
       "      <td>CHEMBL3752555</td>\n",
       "      <td>545.0</td>\n",
       "      <td>inactive</td>\n",
       "    </tr>\n",
       "    <tr>\n",
       "      <th>3594</th>\n",
       "      <td>CHEMBL3752227</td>\n",
       "      <td>5650.0</td>\n",
       "      <td>intermediate</td>\n",
       "    </tr>\n",
       "    <tr>\n",
       "      <th>3595</th>\n",
       "      <td>CHEMBL3759090</td>\n",
       "      <td>9600.0</td>\n",
       "      <td>intermediate</td>\n",
       "    </tr>\n",
       "    <tr>\n",
       "      <th>3596</th>\n",
       "      <td>CHEMBL3758282</td>\n",
       "      <td>7100.0</td>\n",
       "      <td>inactive</td>\n",
       "    </tr>\n",
       "  </tbody>\n",
       "</table>\n",
       "<p>3597 rows × 3 columns</p>\n",
       "</div>"
      ],
      "text/plain": [
       "     molecule_chembl_id  standard_value bioactivity_class\n",
       "0          CHEMBL133897           750.0            active\n",
       "1          CHEMBL336398           100.0            active\n",
       "2          CHEMBL131588         50000.0          inactive\n",
       "3          CHEMBL130628           300.0            active\n",
       "4          CHEMBL130478           800.0            active\n",
       "...                 ...             ...               ...\n",
       "3592      CHEMBL3752451           424.0      intermediate\n",
       "3593      CHEMBL3752555           545.0          inactive\n",
       "3594      CHEMBL3752227          5650.0      intermediate\n",
       "3595      CHEMBL3759090          9600.0      intermediate\n",
       "3596      CHEMBL3758282          7100.0          inactive\n",
       "\n",
       "[3597 rows x 3 columns]"
      ]
     },
     "execution_count": 9,
     "metadata": {},
     "output_type": "execute_result"
    }
   ],
   "source": [
    "df_no_smiles = df.drop(columns='canonical_smiles')\n",
    "df_no_smiles"
   ]
  },
  {
   "cell_type": "code",
   "execution_count": 10,
   "metadata": {
    "id": "0AuWea6oE6Qo"
   },
   "outputs": [],
   "source": [
    "df_clean = pd.concat([df_no_smiles, smiles], names=\"canonical_smiles\", axis=1)"
   ]
  },
  {
   "cell_type": "markdown",
   "metadata": {
    "id": "K2eizbeZMDWY"
   },
   "source": [
    "# **Calculate Lipinski Descriptors**"
   ]
  },
  {
   "cell_type": "code",
   "execution_count": 11,
   "metadata": {
    "id": "YVGHJTBYL96y"
   },
   "outputs": [],
   "source": [
    "import numpy as np\n",
    "from rdkit import Chem\n",
    "from rdkit.Chem import Descriptors, Lipinski"
   ]
  },
  {
   "cell_type": "code",
   "execution_count": 12,
   "metadata": {
    "id": "g4qRgpB6M-Ok"
   },
   "outputs": [],
   "source": [
    "def lipinski(smiles, verbose=False):\n",
    "  moldata=[]\n",
    "  for e in smiles:\n",
    "    mol = Chem.MolFromSmiles(e)\n",
    "    moldata.append(mol)\n",
    "\n",
    "  baseData = np.arange(1,1)\n",
    "  i=0\n",
    "  for mol in moldata:\n",
    "    desc_MolVt = Descriptors.MolWt(mol)\n",
    "    desc_MolLogP = Descriptors.MolLogP(mol)\n",
    "    desc_NumHDonors = Descriptors.NumHDonors(mol)\n",
    "    desc_NumHAcceptors = Descriptors.NumHAcceptors(mol)\n",
    "    \n",
    "    row = np.array([desc_MolVt, desc_MolLogP, desc_NumHDonors, desc_NumHAcceptors])\n",
    "\n",
    "    if(i==0):\n",
    "      baseData=row\n",
    "    \n",
    "    else:\n",
    "      baseData=np.vstack([baseData, row])\n",
    "    i=i+1\n",
    "\n",
    "  columnNames = [\"MW\",\"LogP\",\"NumHDonors\",\"NumHAcceptors\"]\n",
    "  descriptors = pd.DataFrame(data =baseData, columns=columnNames)\n",
    "\n",
    "  return descriptors"
   ]
  },
  {
   "cell_type": "code",
   "execution_count": 13,
   "metadata": {
    "id": "NCISfXa6NG85"
   },
   "outputs": [],
   "source": [
    "df_lipinski = lipinski(df_clean.canonical_smiles)"
   ]
  },
  {
   "cell_type": "code",
   "execution_count": 14,
   "metadata": {
    "colab": {
     "base_uri": "https://localhost:8080/",
     "height": 423
    },
    "executionInfo": {
     "elapsed": 8,
     "status": "ok",
     "timestamp": 1656518017816,
     "user": {
      "displayName": "Alyssa Imani",
      "userId": "15748760200900969572"
     },
     "user_tz": -420
    },
    "id": "7E-h7MtENJV3",
    "outputId": "89722867-6916-4534-e29a-ca7b41150f19"
   },
   "outputs": [
    {
     "data": {
      "text/html": [
       "<div>\n",
       "<style scoped>\n",
       "    .dataframe tbody tr th:only-of-type {\n",
       "        vertical-align: middle;\n",
       "    }\n",
       "\n",
       "    .dataframe tbody tr th {\n",
       "        vertical-align: top;\n",
       "    }\n",
       "\n",
       "    .dataframe thead th {\n",
       "        text-align: right;\n",
       "    }\n",
       "</style>\n",
       "<table border=\"1\" class=\"dataframe\">\n",
       "  <thead>\n",
       "    <tr style=\"text-align: right;\">\n",
       "      <th></th>\n",
       "      <th>MW</th>\n",
       "      <th>LogP</th>\n",
       "      <th>NumHDonors</th>\n",
       "      <th>NumHAcceptors</th>\n",
       "    </tr>\n",
       "  </thead>\n",
       "  <tbody>\n",
       "    <tr>\n",
       "      <th>0</th>\n",
       "      <td>312.325</td>\n",
       "      <td>2.8032</td>\n",
       "      <td>0.0</td>\n",
       "      <td>6.0</td>\n",
       "    </tr>\n",
       "    <tr>\n",
       "      <th>1</th>\n",
       "      <td>376.913</td>\n",
       "      <td>4.5546</td>\n",
       "      <td>0.0</td>\n",
       "      <td>5.0</td>\n",
       "    </tr>\n",
       "    <tr>\n",
       "      <th>2</th>\n",
       "      <td>426.851</td>\n",
       "      <td>5.3574</td>\n",
       "      <td>0.0</td>\n",
       "      <td>5.0</td>\n",
       "    </tr>\n",
       "    <tr>\n",
       "      <th>3</th>\n",
       "      <td>404.845</td>\n",
       "      <td>4.7069</td>\n",
       "      <td>0.0</td>\n",
       "      <td>5.0</td>\n",
       "    </tr>\n",
       "    <tr>\n",
       "      <th>4</th>\n",
       "      <td>346.334</td>\n",
       "      <td>3.0953</td>\n",
       "      <td>0.0</td>\n",
       "      <td>6.0</td>\n",
       "    </tr>\n",
       "    <tr>\n",
       "      <th>...</th>\n",
       "      <td>...</td>\n",
       "      <td>...</td>\n",
       "      <td>...</td>\n",
       "      <td>...</td>\n",
       "    </tr>\n",
       "    <tr>\n",
       "      <th>3592</th>\n",
       "      <td>441.575</td>\n",
       "      <td>6.2621</td>\n",
       "      <td>2.0</td>\n",
       "      <td>4.0</td>\n",
       "    </tr>\n",
       "    <tr>\n",
       "      <th>3593</th>\n",
       "      <td>427.548</td>\n",
       "      <td>5.8720</td>\n",
       "      <td>2.0</td>\n",
       "      <td>4.0</td>\n",
       "    </tr>\n",
       "    <tr>\n",
       "      <th>3594</th>\n",
       "      <td>383.576</td>\n",
       "      <td>6.1090</td>\n",
       "      <td>0.0</td>\n",
       "      <td>3.0</td>\n",
       "    </tr>\n",
       "    <tr>\n",
       "      <th>3595</th>\n",
       "      <td>568.795</td>\n",
       "      <td>7.0602</td>\n",
       "      <td>1.0</td>\n",
       "      <td>6.0</td>\n",
       "    </tr>\n",
       "    <tr>\n",
       "      <th>3596</th>\n",
       "      <td>582.822</td>\n",
       "      <td>7.4503</td>\n",
       "      <td>1.0</td>\n",
       "      <td>6.0</td>\n",
       "    </tr>\n",
       "  </tbody>\n",
       "</table>\n",
       "<p>3597 rows × 4 columns</p>\n",
       "</div>"
      ],
      "text/plain": [
       "           MW    LogP  NumHDonors  NumHAcceptors\n",
       "0     312.325  2.8032         0.0            6.0\n",
       "1     376.913  4.5546         0.0            5.0\n",
       "2     426.851  5.3574         0.0            5.0\n",
       "3     404.845  4.7069         0.0            5.0\n",
       "4     346.334  3.0953         0.0            6.0\n",
       "...       ...     ...         ...            ...\n",
       "3592  441.575  6.2621         2.0            4.0\n",
       "3593  427.548  5.8720         2.0            4.0\n",
       "3594  383.576  6.1090         0.0            3.0\n",
       "3595  568.795  7.0602         1.0            6.0\n",
       "3596  582.822  7.4503         1.0            6.0\n",
       "\n",
       "[3597 rows x 4 columns]"
      ]
     },
     "execution_count": 14,
     "metadata": {},
     "output_type": "execute_result"
    }
   ],
   "source": [
    "df_lipinski"
   ]
  },
  {
   "cell_type": "code",
   "execution_count": 15,
   "metadata": {
    "id": "rDAyOyzZNLqG"
   },
   "outputs": [],
   "source": [
    "df_combined = pd.concat([df_clean,df_lipinski], axis=1)"
   ]
  },
  {
   "cell_type": "code",
   "execution_count": 16,
   "metadata": {
    "colab": {
     "base_uri": "https://localhost:8080/",
     "height": 522
    },
    "executionInfo": {
     "elapsed": 767,
     "status": "ok",
     "timestamp": 1656518019568,
     "user": {
      "displayName": "Alyssa Imani",
      "userId": "15748760200900969572"
     },
     "user_tz": -420
    },
    "id": "0nrEhDt4NOPv",
    "outputId": "19690f4b-f9a3-444b-8e87-3fea45ff0eb2"
   },
   "outputs": [
    {
     "data": {
      "text/html": [
       "<div>\n",
       "<style scoped>\n",
       "    .dataframe tbody tr th:only-of-type {\n",
       "        vertical-align: middle;\n",
       "    }\n",
       "\n",
       "    .dataframe tbody tr th {\n",
       "        vertical-align: top;\n",
       "    }\n",
       "\n",
       "    .dataframe thead th {\n",
       "        text-align: right;\n",
       "    }\n",
       "</style>\n",
       "<table border=\"1\" class=\"dataframe\">\n",
       "  <thead>\n",
       "    <tr style=\"text-align: right;\">\n",
       "      <th></th>\n",
       "      <th>molecule_chembl_id</th>\n",
       "      <th>standard_value</th>\n",
       "      <th>bioactivity_class</th>\n",
       "      <th>canonical_smiles</th>\n",
       "      <th>MW</th>\n",
       "      <th>LogP</th>\n",
       "      <th>NumHDonors</th>\n",
       "      <th>NumHAcceptors</th>\n",
       "    </tr>\n",
       "  </thead>\n",
       "  <tbody>\n",
       "    <tr>\n",
       "      <th>0</th>\n",
       "      <td>CHEMBL133897</td>\n",
       "      <td>750.0</td>\n",
       "      <td>active</td>\n",
       "      <td>CCOc1nn(-c2cccc(OCc3ccccc3)c2)c(=O)o1</td>\n",
       "      <td>312.325</td>\n",
       "      <td>2.8032</td>\n",
       "      <td>0.0</td>\n",
       "      <td>6.0</td>\n",
       "    </tr>\n",
       "    <tr>\n",
       "      <th>1</th>\n",
       "      <td>CHEMBL336398</td>\n",
       "      <td>100.0</td>\n",
       "      <td>active</td>\n",
       "      <td>O=C(N1CCCCC1)n1nc(-c2ccc(Cl)cc2)nc1SCC1CC1</td>\n",
       "      <td>376.913</td>\n",
       "      <td>4.5546</td>\n",
       "      <td>0.0</td>\n",
       "      <td>5.0</td>\n",
       "    </tr>\n",
       "    <tr>\n",
       "      <th>2</th>\n",
       "      <td>CHEMBL131588</td>\n",
       "      <td>50000.0</td>\n",
       "      <td>inactive</td>\n",
       "      <td>CN(C(=O)n1nc(-c2ccc(Cl)cc2)nc1SCC(F)(F)F)c1ccccc1</td>\n",
       "      <td>426.851</td>\n",
       "      <td>5.3574</td>\n",
       "      <td>0.0</td>\n",
       "      <td>5.0</td>\n",
       "    </tr>\n",
       "    <tr>\n",
       "      <th>3</th>\n",
       "      <td>CHEMBL130628</td>\n",
       "      <td>300.0</td>\n",
       "      <td>active</td>\n",
       "      <td>O=C(N1CCCCC1)n1nc(-c2ccc(Cl)cc2)nc1SCC(F)(F)F</td>\n",
       "      <td>404.845</td>\n",
       "      <td>4.7069</td>\n",
       "      <td>0.0</td>\n",
       "      <td>5.0</td>\n",
       "    </tr>\n",
       "    <tr>\n",
       "      <th>4</th>\n",
       "      <td>CHEMBL130478</td>\n",
       "      <td>800.0</td>\n",
       "      <td>active</td>\n",
       "      <td>CSc1nc(-c2ccc(OC(F)(F)F)cc2)nn1C(=O)N(C)C</td>\n",
       "      <td>346.334</td>\n",
       "      <td>3.0953</td>\n",
       "      <td>0.0</td>\n",
       "      <td>6.0</td>\n",
       "    </tr>\n",
       "    <tr>\n",
       "      <th>...</th>\n",
       "      <td>...</td>\n",
       "      <td>...</td>\n",
       "      <td>...</td>\n",
       "      <td>...</td>\n",
       "      <td>...</td>\n",
       "      <td>...</td>\n",
       "      <td>...</td>\n",
       "      <td>...</td>\n",
       "    </tr>\n",
       "    <tr>\n",
       "      <th>3592</th>\n",
       "      <td>CHEMBL3752451</td>\n",
       "      <td>424.0</td>\n",
       "      <td>intermediate</td>\n",
       "      <td>O=C(NCCCCCCNc1c2c(nc3ccccc13)CCCC2)c1cc2ccccc2o1</td>\n",
       "      <td>441.575</td>\n",
       "      <td>6.2621</td>\n",
       "      <td>2.0</td>\n",
       "      <td>4.0</td>\n",
       "    </tr>\n",
       "    <tr>\n",
       "      <th>3593</th>\n",
       "      <td>CHEMBL3752555</td>\n",
       "      <td>545.0</td>\n",
       "      <td>inactive</td>\n",
       "      <td>O=C(NCCCCCCNc1c2c(nc3ccccc13)CCC2)c1cc2ccccc2o1</td>\n",
       "      <td>427.548</td>\n",
       "      <td>5.8720</td>\n",
       "      <td>2.0</td>\n",
       "      <td>4.0</td>\n",
       "    </tr>\n",
       "    <tr>\n",
       "      <th>3594</th>\n",
       "      <td>CHEMBL3752227</td>\n",
       "      <td>5650.0</td>\n",
       "      <td>intermediate</td>\n",
       "      <td>CCN(CCCCCCCCc1cccc(OC)c1)Cc1ccccc1OC</td>\n",
       "      <td>383.576</td>\n",
       "      <td>6.1090</td>\n",
       "      <td>0.0</td>\n",
       "      <td>3.0</td>\n",
       "    </tr>\n",
       "    <tr>\n",
       "      <th>3595</th>\n",
       "      <td>CHEMBL3759090</td>\n",
       "      <td>9600.0</td>\n",
       "      <td>intermediate</td>\n",
       "      <td>CC(C)=CC[C@H]1C[C@@]2(CC=C(C)C)C(=O)O[C@@](CC=...</td>\n",
       "      <td>568.795</td>\n",
       "      <td>7.0602</td>\n",
       "      <td>1.0</td>\n",
       "      <td>6.0</td>\n",
       "    </tr>\n",
       "    <tr>\n",
       "      <th>3596</th>\n",
       "      <td>CHEMBL3758282</td>\n",
       "      <td>7100.0</td>\n",
       "      <td>inactive</td>\n",
       "      <td>CCC(C)C(=O)[C@@H]1C(=O)[C@]2(CC=C(C)C)OC(=O)[C...</td>\n",
       "      <td>582.822</td>\n",
       "      <td>7.4503</td>\n",
       "      <td>1.0</td>\n",
       "      <td>6.0</td>\n",
       "    </tr>\n",
       "  </tbody>\n",
       "</table>\n",
       "<p>3597 rows × 8 columns</p>\n",
       "</div>"
      ],
      "text/plain": [
       "     molecule_chembl_id  standard_value bioactivity_class  \\\n",
       "0          CHEMBL133897           750.0            active   \n",
       "1          CHEMBL336398           100.0            active   \n",
       "2          CHEMBL131588         50000.0          inactive   \n",
       "3          CHEMBL130628           300.0            active   \n",
       "4          CHEMBL130478           800.0            active   \n",
       "...                 ...             ...               ...   \n",
       "3592      CHEMBL3752451           424.0      intermediate   \n",
       "3593      CHEMBL3752555           545.0          inactive   \n",
       "3594      CHEMBL3752227          5650.0      intermediate   \n",
       "3595      CHEMBL3759090          9600.0      intermediate   \n",
       "3596      CHEMBL3758282          7100.0          inactive   \n",
       "\n",
       "                                       canonical_smiles       MW    LogP  \\\n",
       "0                 CCOc1nn(-c2cccc(OCc3ccccc3)c2)c(=O)o1  312.325  2.8032   \n",
       "1            O=C(N1CCCCC1)n1nc(-c2ccc(Cl)cc2)nc1SCC1CC1  376.913  4.5546   \n",
       "2     CN(C(=O)n1nc(-c2ccc(Cl)cc2)nc1SCC(F)(F)F)c1ccccc1  426.851  5.3574   \n",
       "3         O=C(N1CCCCC1)n1nc(-c2ccc(Cl)cc2)nc1SCC(F)(F)F  404.845  4.7069   \n",
       "4             CSc1nc(-c2ccc(OC(F)(F)F)cc2)nn1C(=O)N(C)C  346.334  3.0953   \n",
       "...                                                 ...      ...     ...   \n",
       "3592   O=C(NCCCCCCNc1c2c(nc3ccccc13)CCCC2)c1cc2ccccc2o1  441.575  6.2621   \n",
       "3593    O=C(NCCCCCCNc1c2c(nc3ccccc13)CCC2)c1cc2ccccc2o1  427.548  5.8720   \n",
       "3594               CCN(CCCCCCCCc1cccc(OC)c1)Cc1ccccc1OC  383.576  6.1090   \n",
       "3595  CC(C)=CC[C@H]1C[C@@]2(CC=C(C)C)C(=O)O[C@@](CC=...  568.795  7.0602   \n",
       "3596  CCC(C)C(=O)[C@@H]1C(=O)[C@]2(CC=C(C)C)OC(=O)[C...  582.822  7.4503   \n",
       "\n",
       "      NumHDonors  NumHAcceptors  \n",
       "0            0.0            6.0  \n",
       "1            0.0            5.0  \n",
       "2            0.0            5.0  \n",
       "3            0.0            5.0  \n",
       "4            0.0            6.0  \n",
       "...          ...            ...  \n",
       "3592         2.0            4.0  \n",
       "3593         2.0            4.0  \n",
       "3594         0.0            3.0  \n",
       "3595         1.0            6.0  \n",
       "3596         1.0            6.0  \n",
       "\n",
       "[3597 rows x 8 columns]"
      ]
     },
     "execution_count": 16,
     "metadata": {},
     "output_type": "execute_result"
    }
   ],
   "source": [
    "df_combined"
   ]
  },
  {
   "cell_type": "markdown",
   "metadata": {
    "id": "H0mjDSt2NTWf"
   },
   "source": [
    "# **Convert IC50 to pIC50**"
   ]
  },
  {
   "cell_type": "code",
   "execution_count": 17,
   "metadata": {
    "id": "i-DtQUagNOmP"
   },
   "outputs": [],
   "source": [
    "def pIC50(input):\n",
    "  pIC50 = []\n",
    "  \n",
    "  for i in input['standard_value_norm']:\n",
    "    molar = i*(10**-9) #convert nM to M\n",
    "    pIC50.append(-np.log10(molar))\n",
    "  \n",
    "  input['pIC50'] = pIC50\n",
    "  x = input.drop('standard_value_norm', 1)\n",
    "\n",
    "  return x"
   ]
  },
  {
   "cell_type": "code",
   "execution_count": 18,
   "metadata": {
    "colab": {
     "base_uri": "https://localhost:8080/"
    },
    "executionInfo": {
     "elapsed": 319,
     "status": "ok",
     "timestamp": 1656518031120,
     "user": {
      "displayName": "Alyssa Imani",
      "userId": "15748760200900969572"
     },
     "user_tz": -420
    },
    "id": "e5QMGat4NjXN",
    "outputId": "919dda8d-e811-46bf-b153-2fd41bd45b9f"
   },
   "outputs": [
    {
     "data": {
      "text/plain": [
       "count    3.597000e+03\n",
       "mean     4.191082e+12\n",
       "std      1.358961e+14\n",
       "min      6.000000e-03\n",
       "25%      1.000000e+02\n",
       "50%      1.819700e+03\n",
       "75%      1.806000e+04\n",
       "max      5.888437e+15\n",
       "Name: standard_value, dtype: float64"
      ]
     },
     "execution_count": 18,
     "metadata": {},
     "output_type": "execute_result"
    }
   ],
   "source": [
    "df_combined.standard_value.describe()"
   ]
  },
  {
   "cell_type": "code",
   "execution_count": 19,
   "metadata": {
    "colab": {
     "base_uri": "https://localhost:8080/"
    },
    "executionInfo": {
     "elapsed": 445,
     "status": "ok",
     "timestamp": 1656518050492,
     "user": {
      "displayName": "Alyssa Imani",
      "userId": "15748760200900969572"
     },
     "user_tz": -420
    },
    "id": "9TX8G_pVNkbo",
    "outputId": "01c8face-e45b-49fb-db42-700ad893b5e4"
   },
   "outputs": [
    {
     "data": {
      "text/plain": [
       "1.0"
      ]
     },
     "execution_count": 19,
     "metadata": {},
     "output_type": "execute_result"
    }
   ],
   "source": [
    "-np.log10((10**-9)* 100000000)"
   ]
  },
  {
   "cell_type": "code",
   "execution_count": 20,
   "metadata": {
    "colab": {
     "base_uri": "https://localhost:8080/"
    },
    "executionInfo": {
     "elapsed": 3,
     "status": "ok",
     "timestamp": 1656518051081,
     "user": {
      "displayName": "Alyssa Imani",
      "userId": "15748760200900969572"
     },
     "user_tz": -420
    },
    "id": "m5FcZTZ-Nm79",
    "outputId": "5bde9f56-5de6-4dee-b39d-cd46da01bb37"
   },
   "outputs": [
    {
     "data": {
      "text/plain": [
       "-1.0"
      ]
     },
     "execution_count": 20,
     "metadata": {},
     "output_type": "execute_result"
    }
   ],
   "source": [
    "-np.log10((10**-9)* 10000000000)"
   ]
  },
  {
   "cell_type": "code",
   "execution_count": 21,
   "metadata": {
    "id": "4k9GlxY8No0Y"
   },
   "outputs": [],
   "source": [
    "def norm_value(input):\n",
    "  norm = []\n",
    "\n",
    "  for i in input['standard_value']:\n",
    "    if float(i) > 100000000:\n",
    "      i = 100000000\n",
    "    norm.append(i)\n",
    "    \n",
    "  input['standard_value_norm'] = norm\n",
    "  x = input.drop('standard_value', 1)\n",
    "\n",
    "  return x"
   ]
  },
  {
   "cell_type": "code",
   "execution_count": 22,
   "metadata": {
    "colab": {
     "base_uri": "https://localhost:8080/"
    },
    "executionInfo": {
     "elapsed": 520,
     "status": "ok",
     "timestamp": 1656518872470,
     "user": {
      "displayName": "Alyssa Imani",
      "userId": "15748760200900969572"
     },
     "user_tz": -420
    },
    "id": "n2GQMeBUNq51",
    "outputId": "e83b79a6-48e7-40cc-a4b1-6b1f800655cd"
   },
   "outputs": [
    {
     "name": "stderr",
     "output_type": "stream",
     "text": [
      "C:\\Users\\alyss\\AppData\\Local\\Temp\\ipykernel_24336\\1256285117.py:10: FutureWarning: In a future version of pandas all arguments of DataFrame.drop except for the argument 'labels' will be keyword-only.\n",
      "  x = input.drop('standard_value', 1)\n"
     ]
    }
   ],
   "source": [
    "df_norm = norm_value(df_combined)"
   ]
  },
  {
   "cell_type": "code",
   "execution_count": 23,
   "metadata": {
    "colab": {
     "base_uri": "https://localhost:8080/"
    },
    "executionInfo": {
     "elapsed": 3,
     "status": "ok",
     "timestamp": 1656518873884,
     "user": {
      "displayName": "Alyssa Imani",
      "userId": "15748760200900969572"
     },
     "user_tz": -420
    },
    "id": "uEUdopqeNvmr",
    "outputId": "0c58c5db-9332-4d7b-f6e8-44eba514fd5d"
   },
   "outputs": [
    {
     "data": {
      "text/plain": [
       "count    3.597000e+03\n",
       "mean     4.058787e+05\n",
       "std      5.386936e+06\n",
       "min      6.000000e-03\n",
       "25%      1.000000e+02\n",
       "50%      1.819700e+03\n",
       "75%      1.806000e+04\n",
       "max      1.000000e+08\n",
       "Name: standard_value_norm, dtype: float64"
      ]
     },
     "execution_count": 23,
     "metadata": {},
     "output_type": "execute_result"
    }
   ],
   "source": [
    "df_norm.standard_value_norm.describe()"
   ]
  },
  {
   "cell_type": "code",
   "execution_count": 24,
   "metadata": {
    "colab": {
     "base_uri": "https://localhost:8080/",
     "height": 559
    },
    "executionInfo": {
     "elapsed": 6,
     "status": "ok",
     "timestamp": 1656518874227,
     "user": {
      "displayName": "Alyssa Imani",
      "userId": "15748760200900969572"
     },
     "user_tz": -420
    },
    "id": "K3oDa236Nx_I",
    "outputId": "4f420aa0-4911-4ee7-b1c1-4823311e957c"
   },
   "outputs": [
    {
     "name": "stderr",
     "output_type": "stream",
     "text": [
      "C:\\Users\\alyss\\AppData\\Local\\Temp\\ipykernel_24336\\1254519358.py:9: FutureWarning: In a future version of pandas all arguments of DataFrame.drop except for the argument 'labels' will be keyword-only.\n",
      "  x = input.drop('standard_value_norm', 1)\n"
     ]
    },
    {
     "data": {
      "text/html": [
       "<div>\n",
       "<style scoped>\n",
       "    .dataframe tbody tr th:only-of-type {\n",
       "        vertical-align: middle;\n",
       "    }\n",
       "\n",
       "    .dataframe tbody tr th {\n",
       "        vertical-align: top;\n",
       "    }\n",
       "\n",
       "    .dataframe thead th {\n",
       "        text-align: right;\n",
       "    }\n",
       "</style>\n",
       "<table border=\"1\" class=\"dataframe\">\n",
       "  <thead>\n",
       "    <tr style=\"text-align: right;\">\n",
       "      <th></th>\n",
       "      <th>molecule_chembl_id</th>\n",
       "      <th>bioactivity_class</th>\n",
       "      <th>canonical_smiles</th>\n",
       "      <th>MW</th>\n",
       "      <th>LogP</th>\n",
       "      <th>NumHDonors</th>\n",
       "      <th>NumHAcceptors</th>\n",
       "      <th>pIC50</th>\n",
       "    </tr>\n",
       "  </thead>\n",
       "  <tbody>\n",
       "    <tr>\n",
       "      <th>0</th>\n",
       "      <td>CHEMBL133897</td>\n",
       "      <td>active</td>\n",
       "      <td>CCOc1nn(-c2cccc(OCc3ccccc3)c2)c(=O)o1</td>\n",
       "      <td>312.325</td>\n",
       "      <td>2.8032</td>\n",
       "      <td>0.0</td>\n",
       "      <td>6.0</td>\n",
       "      <td>6.124939</td>\n",
       "    </tr>\n",
       "    <tr>\n",
       "      <th>1</th>\n",
       "      <td>CHEMBL336398</td>\n",
       "      <td>active</td>\n",
       "      <td>O=C(N1CCCCC1)n1nc(-c2ccc(Cl)cc2)nc1SCC1CC1</td>\n",
       "      <td>376.913</td>\n",
       "      <td>4.5546</td>\n",
       "      <td>0.0</td>\n",
       "      <td>5.0</td>\n",
       "      <td>7.000000</td>\n",
       "    </tr>\n",
       "    <tr>\n",
       "      <th>2</th>\n",
       "      <td>CHEMBL131588</td>\n",
       "      <td>inactive</td>\n",
       "      <td>CN(C(=O)n1nc(-c2ccc(Cl)cc2)nc1SCC(F)(F)F)c1ccccc1</td>\n",
       "      <td>426.851</td>\n",
       "      <td>5.3574</td>\n",
       "      <td>0.0</td>\n",
       "      <td>5.0</td>\n",
       "      <td>4.301030</td>\n",
       "    </tr>\n",
       "    <tr>\n",
       "      <th>3</th>\n",
       "      <td>CHEMBL130628</td>\n",
       "      <td>active</td>\n",
       "      <td>O=C(N1CCCCC1)n1nc(-c2ccc(Cl)cc2)nc1SCC(F)(F)F</td>\n",
       "      <td>404.845</td>\n",
       "      <td>4.7069</td>\n",
       "      <td>0.0</td>\n",
       "      <td>5.0</td>\n",
       "      <td>6.522879</td>\n",
       "    </tr>\n",
       "    <tr>\n",
       "      <th>4</th>\n",
       "      <td>CHEMBL130478</td>\n",
       "      <td>active</td>\n",
       "      <td>CSc1nc(-c2ccc(OC(F)(F)F)cc2)nn1C(=O)N(C)C</td>\n",
       "      <td>346.334</td>\n",
       "      <td>3.0953</td>\n",
       "      <td>0.0</td>\n",
       "      <td>6.0</td>\n",
       "      <td>6.096910</td>\n",
       "    </tr>\n",
       "    <tr>\n",
       "      <th>...</th>\n",
       "      <td>...</td>\n",
       "      <td>...</td>\n",
       "      <td>...</td>\n",
       "      <td>...</td>\n",
       "      <td>...</td>\n",
       "      <td>...</td>\n",
       "      <td>...</td>\n",
       "      <td>...</td>\n",
       "    </tr>\n",
       "    <tr>\n",
       "      <th>3592</th>\n",
       "      <td>CHEMBL3752451</td>\n",
       "      <td>intermediate</td>\n",
       "      <td>O=C(NCCCCCCNc1c2c(nc3ccccc13)CCCC2)c1cc2ccccc2o1</td>\n",
       "      <td>441.575</td>\n",
       "      <td>6.2621</td>\n",
       "      <td>2.0</td>\n",
       "      <td>4.0</td>\n",
       "      <td>6.372634</td>\n",
       "    </tr>\n",
       "    <tr>\n",
       "      <th>3593</th>\n",
       "      <td>CHEMBL3752555</td>\n",
       "      <td>inactive</td>\n",
       "      <td>O=C(NCCCCCCNc1c2c(nc3ccccc13)CCC2)c1cc2ccccc2o1</td>\n",
       "      <td>427.548</td>\n",
       "      <td>5.8720</td>\n",
       "      <td>2.0</td>\n",
       "      <td>4.0</td>\n",
       "      <td>6.263603</td>\n",
       "    </tr>\n",
       "    <tr>\n",
       "      <th>3594</th>\n",
       "      <td>CHEMBL3752227</td>\n",
       "      <td>intermediate</td>\n",
       "      <td>CCN(CCCCCCCCc1cccc(OC)c1)Cc1ccccc1OC</td>\n",
       "      <td>383.576</td>\n",
       "      <td>6.1090</td>\n",
       "      <td>0.0</td>\n",
       "      <td>3.0</td>\n",
       "      <td>5.247952</td>\n",
       "    </tr>\n",
       "    <tr>\n",
       "      <th>3595</th>\n",
       "      <td>CHEMBL3759090</td>\n",
       "      <td>intermediate</td>\n",
       "      <td>CC(C)=CC[C@H]1C[C@@]2(CC=C(C)C)C(=O)O[C@@](CC=...</td>\n",
       "      <td>568.795</td>\n",
       "      <td>7.0602</td>\n",
       "      <td>1.0</td>\n",
       "      <td>6.0</td>\n",
       "      <td>5.017729</td>\n",
       "    </tr>\n",
       "    <tr>\n",
       "      <th>3596</th>\n",
       "      <td>CHEMBL3758282</td>\n",
       "      <td>inactive</td>\n",
       "      <td>CCC(C)C(=O)[C@@H]1C(=O)[C@]2(CC=C(C)C)OC(=O)[C...</td>\n",
       "      <td>582.822</td>\n",
       "      <td>7.4503</td>\n",
       "      <td>1.0</td>\n",
       "      <td>6.0</td>\n",
       "      <td>5.148742</td>\n",
       "    </tr>\n",
       "  </tbody>\n",
       "</table>\n",
       "<p>3597 rows × 8 columns</p>\n",
       "</div>"
      ],
      "text/plain": [
       "     molecule_chembl_id bioactivity_class  \\\n",
       "0          CHEMBL133897            active   \n",
       "1          CHEMBL336398            active   \n",
       "2          CHEMBL131588          inactive   \n",
       "3          CHEMBL130628            active   \n",
       "4          CHEMBL130478            active   \n",
       "...                 ...               ...   \n",
       "3592      CHEMBL3752451      intermediate   \n",
       "3593      CHEMBL3752555          inactive   \n",
       "3594      CHEMBL3752227      intermediate   \n",
       "3595      CHEMBL3759090      intermediate   \n",
       "3596      CHEMBL3758282          inactive   \n",
       "\n",
       "                                       canonical_smiles       MW    LogP  \\\n",
       "0                 CCOc1nn(-c2cccc(OCc3ccccc3)c2)c(=O)o1  312.325  2.8032   \n",
       "1            O=C(N1CCCCC1)n1nc(-c2ccc(Cl)cc2)nc1SCC1CC1  376.913  4.5546   \n",
       "2     CN(C(=O)n1nc(-c2ccc(Cl)cc2)nc1SCC(F)(F)F)c1ccccc1  426.851  5.3574   \n",
       "3         O=C(N1CCCCC1)n1nc(-c2ccc(Cl)cc2)nc1SCC(F)(F)F  404.845  4.7069   \n",
       "4             CSc1nc(-c2ccc(OC(F)(F)F)cc2)nn1C(=O)N(C)C  346.334  3.0953   \n",
       "...                                                 ...      ...     ...   \n",
       "3592   O=C(NCCCCCCNc1c2c(nc3ccccc13)CCCC2)c1cc2ccccc2o1  441.575  6.2621   \n",
       "3593    O=C(NCCCCCCNc1c2c(nc3ccccc13)CCC2)c1cc2ccccc2o1  427.548  5.8720   \n",
       "3594               CCN(CCCCCCCCc1cccc(OC)c1)Cc1ccccc1OC  383.576  6.1090   \n",
       "3595  CC(C)=CC[C@H]1C[C@@]2(CC=C(C)C)C(=O)O[C@@](CC=...  568.795  7.0602   \n",
       "3596  CCC(C)C(=O)[C@@H]1C(=O)[C@]2(CC=C(C)C)OC(=O)[C...  582.822  7.4503   \n",
       "\n",
       "      NumHDonors  NumHAcceptors     pIC50  \n",
       "0            0.0            6.0  6.124939  \n",
       "1            0.0            5.0  7.000000  \n",
       "2            0.0            5.0  4.301030  \n",
       "3            0.0            5.0  6.522879  \n",
       "4            0.0            6.0  6.096910  \n",
       "...          ...            ...       ...  \n",
       "3592         2.0            4.0  6.372634  \n",
       "3593         2.0            4.0  6.263603  \n",
       "3594         0.0            3.0  5.247952  \n",
       "3595         1.0            6.0  5.017729  \n",
       "3596         1.0            6.0  5.148742  \n",
       "\n",
       "[3597 rows x 8 columns]"
      ]
     },
     "execution_count": 24,
     "metadata": {},
     "output_type": "execute_result"
    }
   ],
   "source": [
    "df_final = pIC50(df_norm)\n",
    "df_final"
   ]
  },
  {
   "cell_type": "code",
   "execution_count": 25,
   "metadata": {
    "colab": {
     "base_uri": "https://localhost:8080/"
    },
    "executionInfo": {
     "elapsed": 4,
     "status": "ok",
     "timestamp": 1656518875858,
     "user": {
      "displayName": "Alyssa Imani",
      "userId": "15748760200900969572"
     },
     "user_tz": -420
    },
    "id": "xgcCwNpaSfUX",
    "outputId": "60a60727-c4ac-4523-e32f-201eb1646aa5"
   },
   "outputs": [
    {
     "data": {
      "text/plain": [
       "count    3597.000000\n",
       "mean        5.876853\n",
       "std         1.580672\n",
       "min         1.000000\n",
       "25%         4.743282\n",
       "50%         5.740000\n",
       "75%         7.000000\n",
       "max        11.221849\n",
       "Name: pIC50, dtype: float64"
      ]
     },
     "execution_count": 25,
     "metadata": {},
     "output_type": "execute_result"
    }
   ],
   "source": [
    "df_final.pIC50.describe()"
   ]
  },
  {
   "cell_type": "code",
   "execution_count": 26,
   "metadata": {
    "id": "SCKXrpmTLOxk"
   },
   "outputs": [],
   "source": [
    "df_final.to_csv('acetylcholinesterase_bioactivity_data_3class_pIC50.csv')"
   ]
  },
  {
   "cell_type": "markdown",
   "metadata": {
    "id": "7smPoZIZSkE8"
   },
   "source": [
    "**Removing the 'intermediate' bioactivity class**"
   ]
  },
  {
   "cell_type": "code",
   "execution_count": 27,
   "metadata": {
    "colab": {
     "base_uri": "https://localhost:8080/",
     "height": 505
    },
    "executionInfo": {
     "elapsed": 6,
     "status": "ok",
     "timestamp": 1656518886322,
     "user": {
      "displayName": "Alyssa Imani",
      "userId": "15748760200900969572"
     },
     "user_tz": -420
    },
    "id": "s2Neaeg8Shut",
    "outputId": "cdfe4efb-6646-4604-c986-435ffc37afcd"
   },
   "outputs": [
    {
     "data": {
      "text/html": [
       "<div>\n",
       "<style scoped>\n",
       "    .dataframe tbody tr th:only-of-type {\n",
       "        vertical-align: middle;\n",
       "    }\n",
       "\n",
       "    .dataframe tbody tr th {\n",
       "        vertical-align: top;\n",
       "    }\n",
       "\n",
       "    .dataframe thead th {\n",
       "        text-align: right;\n",
       "    }\n",
       "</style>\n",
       "<table border=\"1\" class=\"dataframe\">\n",
       "  <thead>\n",
       "    <tr style=\"text-align: right;\">\n",
       "      <th></th>\n",
       "      <th>molecule_chembl_id</th>\n",
       "      <th>bioactivity_class</th>\n",
       "      <th>canonical_smiles</th>\n",
       "      <th>MW</th>\n",
       "      <th>LogP</th>\n",
       "      <th>NumHDonors</th>\n",
       "      <th>NumHAcceptors</th>\n",
       "      <th>pIC50</th>\n",
       "    </tr>\n",
       "  </thead>\n",
       "  <tbody>\n",
       "    <tr>\n",
       "      <th>0</th>\n",
       "      <td>CHEMBL133897</td>\n",
       "      <td>active</td>\n",
       "      <td>CCOc1nn(-c2cccc(OCc3ccccc3)c2)c(=O)o1</td>\n",
       "      <td>312.325</td>\n",
       "      <td>2.8032</td>\n",
       "      <td>0.0</td>\n",
       "      <td>6.0</td>\n",
       "      <td>6.124939</td>\n",
       "    </tr>\n",
       "    <tr>\n",
       "      <th>1</th>\n",
       "      <td>CHEMBL336398</td>\n",
       "      <td>active</td>\n",
       "      <td>O=C(N1CCCCC1)n1nc(-c2ccc(Cl)cc2)nc1SCC1CC1</td>\n",
       "      <td>376.913</td>\n",
       "      <td>4.5546</td>\n",
       "      <td>0.0</td>\n",
       "      <td>5.0</td>\n",
       "      <td>7.000000</td>\n",
       "    </tr>\n",
       "    <tr>\n",
       "      <th>2</th>\n",
       "      <td>CHEMBL131588</td>\n",
       "      <td>inactive</td>\n",
       "      <td>CN(C(=O)n1nc(-c2ccc(Cl)cc2)nc1SCC(F)(F)F)c1ccccc1</td>\n",
       "      <td>426.851</td>\n",
       "      <td>5.3574</td>\n",
       "      <td>0.0</td>\n",
       "      <td>5.0</td>\n",
       "      <td>4.301030</td>\n",
       "    </tr>\n",
       "    <tr>\n",
       "      <th>3</th>\n",
       "      <td>CHEMBL130628</td>\n",
       "      <td>active</td>\n",
       "      <td>O=C(N1CCCCC1)n1nc(-c2ccc(Cl)cc2)nc1SCC(F)(F)F</td>\n",
       "      <td>404.845</td>\n",
       "      <td>4.7069</td>\n",
       "      <td>0.0</td>\n",
       "      <td>5.0</td>\n",
       "      <td>6.522879</td>\n",
       "    </tr>\n",
       "    <tr>\n",
       "      <th>4</th>\n",
       "      <td>CHEMBL130478</td>\n",
       "      <td>active</td>\n",
       "      <td>CSc1nc(-c2ccc(OC(F)(F)F)cc2)nn1C(=O)N(C)C</td>\n",
       "      <td>346.334</td>\n",
       "      <td>3.0953</td>\n",
       "      <td>0.0</td>\n",
       "      <td>6.0</td>\n",
       "      <td>6.096910</td>\n",
       "    </tr>\n",
       "    <tr>\n",
       "      <th>...</th>\n",
       "      <td>...</td>\n",
       "      <td>...</td>\n",
       "      <td>...</td>\n",
       "      <td>...</td>\n",
       "      <td>...</td>\n",
       "      <td>...</td>\n",
       "      <td>...</td>\n",
       "      <td>...</td>\n",
       "    </tr>\n",
       "    <tr>\n",
       "      <th>3583</th>\n",
       "      <td>CHEMBL3754672</td>\n",
       "      <td>inactive</td>\n",
       "      <td>c1ccc2oc(CN(CCCCCCCNc3c4c(nc5ccccc35)CCCCC4)Cc...</td>\n",
       "      <td>585.792</td>\n",
       "      <td>10.0609</td>\n",
       "      <td>1.0</td>\n",
       "      <td>5.0</td>\n",
       "      <td>6.698970</td>\n",
       "    </tr>\n",
       "    <tr>\n",
       "      <th>3587</th>\n",
       "      <td>CHEMBL3754291</td>\n",
       "      <td>active</td>\n",
       "      <td>O=C(NCCCCCCCNc1c2c(nc3ccccc13)CCC2)c1cc2ccccc2o1</td>\n",
       "      <td>441.575</td>\n",
       "      <td>6.2621</td>\n",
       "      <td>2.0</td>\n",
       "      <td>4.0</td>\n",
       "      <td>7.313364</td>\n",
       "    </tr>\n",
       "    <tr>\n",
       "      <th>3588</th>\n",
       "      <td>CHEMBL3752119</td>\n",
       "      <td>inactive</td>\n",
       "      <td>COc1cccc2cc(C(=O)NCCCCCCNc3c4c(nc5ccccc35)CCCC...</td>\n",
       "      <td>485.628</td>\n",
       "      <td>6.6608</td>\n",
       "      <td>2.0</td>\n",
       "      <td>5.0</td>\n",
       "      <td>7.490797</td>\n",
       "    </tr>\n",
       "    <tr>\n",
       "      <th>3593</th>\n",
       "      <td>CHEMBL3752555</td>\n",
       "      <td>inactive</td>\n",
       "      <td>O=C(NCCCCCCNc1c2c(nc3ccccc13)CCC2)c1cc2ccccc2o1</td>\n",
       "      <td>427.548</td>\n",
       "      <td>5.8720</td>\n",
       "      <td>2.0</td>\n",
       "      <td>4.0</td>\n",
       "      <td>6.263603</td>\n",
       "    </tr>\n",
       "    <tr>\n",
       "      <th>3596</th>\n",
       "      <td>CHEMBL3758282</td>\n",
       "      <td>inactive</td>\n",
       "      <td>CCC(C)C(=O)[C@@H]1C(=O)[C@]2(CC=C(C)C)OC(=O)[C...</td>\n",
       "      <td>582.822</td>\n",
       "      <td>7.4503</td>\n",
       "      <td>1.0</td>\n",
       "      <td>6.0</td>\n",
       "      <td>5.148742</td>\n",
       "    </tr>\n",
       "  </tbody>\n",
       "</table>\n",
       "<p>2728 rows × 8 columns</p>\n",
       "</div>"
      ],
      "text/plain": [
       "     molecule_chembl_id bioactivity_class  \\\n",
       "0          CHEMBL133897            active   \n",
       "1          CHEMBL336398            active   \n",
       "2          CHEMBL131588          inactive   \n",
       "3          CHEMBL130628            active   \n",
       "4          CHEMBL130478            active   \n",
       "...                 ...               ...   \n",
       "3583      CHEMBL3754672          inactive   \n",
       "3587      CHEMBL3754291            active   \n",
       "3588      CHEMBL3752119          inactive   \n",
       "3593      CHEMBL3752555          inactive   \n",
       "3596      CHEMBL3758282          inactive   \n",
       "\n",
       "                                       canonical_smiles       MW     LogP  \\\n",
       "0                 CCOc1nn(-c2cccc(OCc3ccccc3)c2)c(=O)o1  312.325   2.8032   \n",
       "1            O=C(N1CCCCC1)n1nc(-c2ccc(Cl)cc2)nc1SCC1CC1  376.913   4.5546   \n",
       "2     CN(C(=O)n1nc(-c2ccc(Cl)cc2)nc1SCC(F)(F)F)c1ccccc1  426.851   5.3574   \n",
       "3         O=C(N1CCCCC1)n1nc(-c2ccc(Cl)cc2)nc1SCC(F)(F)F  404.845   4.7069   \n",
       "4             CSc1nc(-c2ccc(OC(F)(F)F)cc2)nn1C(=O)N(C)C  346.334   3.0953   \n",
       "...                                                 ...      ...      ...   \n",
       "3583  c1ccc2oc(CN(CCCCCCCNc3c4c(nc5ccccc35)CCCCC4)Cc...  585.792  10.0609   \n",
       "3587   O=C(NCCCCCCCNc1c2c(nc3ccccc13)CCC2)c1cc2ccccc2o1  441.575   6.2621   \n",
       "3588  COc1cccc2cc(C(=O)NCCCCCCNc3c4c(nc5ccccc35)CCCC...  485.628   6.6608   \n",
       "3593    O=C(NCCCCCCNc1c2c(nc3ccccc13)CCC2)c1cc2ccccc2o1  427.548   5.8720   \n",
       "3596  CCC(C)C(=O)[C@@H]1C(=O)[C@]2(CC=C(C)C)OC(=O)[C...  582.822   7.4503   \n",
       "\n",
       "      NumHDonors  NumHAcceptors     pIC50  \n",
       "0            0.0            6.0  6.124939  \n",
       "1            0.0            5.0  7.000000  \n",
       "2            0.0            5.0  4.301030  \n",
       "3            0.0            5.0  6.522879  \n",
       "4            0.0            6.0  6.096910  \n",
       "...          ...            ...       ...  \n",
       "3583         1.0            5.0  6.698970  \n",
       "3587         2.0            4.0  7.313364  \n",
       "3588         2.0            5.0  7.490797  \n",
       "3593         2.0            4.0  6.263603  \n",
       "3596         1.0            6.0  5.148742  \n",
       "\n",
       "[2728 rows x 8 columns]"
      ]
     },
     "execution_count": 27,
     "metadata": {},
     "output_type": "execute_result"
    }
   ],
   "source": [
    "df_2class = df_final[df_final.bioactivity_class != 'intermediate']\n",
    "df_2class"
   ]
  },
  {
   "cell_type": "code",
   "execution_count": 28,
   "metadata": {
    "id": "hsDwszkGLktz"
   },
   "outputs": [],
   "source": [
    "df_2class.to_csv('acetylcholinesterase_bioactivity_data_2class_pIC50.csv')"
   ]
  },
  {
   "cell_type": "markdown",
   "metadata": {
    "id": "iOv0po1ePYuP"
   },
   "source": [
    "# ***Exploratory Data Analysis (Chemical Space Analysis) via Lipinski descriptors***"
   ]
  },
  {
   "cell_type": "code",
   "execution_count": 29,
   "metadata": {
    "id": "xZ5tmy9JEo1H"
   },
   "outputs": [],
   "source": [
    "import seaborn as sns\n",
    "sns.set(style='ticks')\n",
    "import matplotlib.pyplot as plt"
   ]
  },
  {
   "cell_type": "markdown",
   "metadata": {
    "id": "rzzM3dG-PqoO"
   },
   "source": [
    "**Frequency plot of the 2 bioactivity classes**"
   ]
  },
  {
   "cell_type": "code",
   "execution_count": 30,
   "metadata": {
    "colab": {
     "base_uri": "https://localhost:8080/",
     "height": 367
    },
    "executionInfo": {
     "elapsed": 602,
     "status": "ok",
     "timestamp": 1656518899421,
     "user": {
      "displayName": "Alyssa Imani",
      "userId": "15748760200900969572"
     },
     "user_tz": -420
    },
    "id": "Kpt1eDskPlao",
    "outputId": "7194fe6f-bac6-4e85-c459-f40d6df2321b"
   },
   "outputs": [
    {
     "data": {
      "image/png": "[encoded data removed]",
      "text/plain": [
       "<Figure size 396x396 with 1 Axes>"
      ]
     },
     "metadata": {
      "needs_background": "light"
     },
     "output_type": "display_data"
    }
   ],
   "source": [
    "plt.figure(figsize=(5.5, 5.5))\n",
    "\n",
    "sns.countplot(x='bioactivity_class', data=df_2class, edgecolor='black')\n",
    "\n",
    "plt.xlabel('bioactivity_class', fontsize=14, fontweight='bold')\n",
    "plt.ylabel('Frequency', fontsize=14, fontweight='bold')\n",
    "\n",
    "plt.savefig('plot_bioactivity_class.pdf')"
   ]
  },
  {
   "cell_type": "markdown",
   "metadata": {
    "id": "6r3AHRKlRPfL"
   },
   "source": [
    "**Scatter plot of MW versus LogP**"
   ]
  },
  {
   "cell_type": "code",
   "execution_count": 31,
   "metadata": {
    "colab": {
     "base_uri": "https://localhost:8080/",
     "height": 367
    },
    "executionInfo": {
     "elapsed": 1309,
     "status": "ok",
     "timestamp": 1656518903163,
     "user": {
      "displayName": "Alyssa Imani",
      "userId": "15748760200900969572"
     },
     "user_tz": -420
    },
    "id": "lPn2cZxYQN5o",
    "outputId": "958b760c-7854-41f0-9b4e-f0a7130c4bf1"
   },
   "outputs": [
    {
     "data": {
      "image/png": "[encoded data removed]",
      "text/plain": [
       "<Figure size 396x396 with 1 Axes>"
      ]
     },
     "metadata": {
      "needs_background": "light"
     },
     "output_type": "display_data"
    }
   ],
   "source": [
    " plt.figure(figsize=(5.5, 5.5))\n",
    "\n",
    " sns.scatterplot(x='MW', y='LogP', data=df_2class, hue='bioactivity_class', size='pIC50', edgecolor='black', alpha=0.7)\n",
    "\n",
    " plt.xlabel('MW', fontsize=14, fontweight='bold')\n",
    " plt.ylabel('LogP', fontsize=14, fontweight='bold')\n",
    " plt.legend(bbox_to_anchor=(1.05, 1), loc=2, borderaxespad=0)\n",
    " plt.savefig('plot_MW_vs_LogP.pdf')"
   ]
  },
  {
   "cell_type": "markdown",
   "metadata": {
    "id": "mNXmMbNsMum5"
   },
   "source": [
    "It can be seen that the 2 bioactivity classes are spanning similar chemical spaces as evident by the scatter plot of MW vs LogP."
   ]
  },
  {
   "cell_type": "markdown",
   "metadata": {
    "id": "KvZpa5SUk1ZC"
   },
   "source": [
    "**Box plots of pIC50 value**"
   ]
  },
  {
   "cell_type": "code",
   "execution_count": 32,
   "metadata": {
    "colab": {
     "base_uri": "https://localhost:8080/",
     "height": 367
    },
    "executionInfo": {
     "elapsed": 416,
     "status": "ok",
     "timestamp": 1656518907358,
     "user": {
      "displayName": "Alyssa Imani",
      "userId": "15748760200900969572"
     },
     "user_tz": -420
    },
    "id": "pwpMBMWtSL11",
    "outputId": "c3607ad6-1b41-4cb8-bb3f-6163270ece48"
   },
   "outputs": [
    {
     "data": {
      "image/png": "[encoded data removed]",
      "text/plain": [
       "<Figure size 396x396 with 1 Axes>"
      ]
     },
     "metadata": {
      "needs_background": "light"
     },
     "output_type": "display_data"
    }
   ],
   "source": [
    "plt.figure(figsize=(5.5, 5.5))\n",
    "\n",
    "sns.boxplot(x='bioactivity_class', y='pIC50', data=df_2class)\n",
    "\n",
    "plt.xlabel('Bioactivity class', fontsize=14, fontweight='bold')\n",
    "plt.ylabel('pIC50 value', fontsize=14, fontweight='bold')\n",
    "\n",
    "plt.savefig('plot_ic50.pdf')"
   ]
  },
  {
   "cell_type": "markdown",
   "metadata": {
    "id": "NePkvvM8ly5p"
   },
   "source": [
    "**Statistical analysis | Mann-Whitney U Test**"
   ]
  },
  {
   "cell_type": "code",
   "execution_count": 33,
   "metadata": {
    "id": "hV_NLhMzlyj5"
   },
   "outputs": [],
   "source": [
    "def mannwhitney(descriptor, verbose=False):\n",
    "  from numpy.random import seed\n",
    "  from numpy.random import randn\n",
    "  from scipy.stats import mannwhitneyu\n",
    "\n",
    "  #seed the random number generator\n",
    "  seed(1)\n",
    "\n",
    "  #actives and inactives\n",
    "  selection = [descriptor, 'bioactivity_class']\n",
    "  df = df_2class[selection]\n",
    "  active = df[df.bioactivity_class == 'active']\n",
    "  active = active[descriptor]\n",
    "\n",
    "  selection = [descriptor, 'bioactivity_class']\n",
    "  df = df_2class[selection]\n",
    "  inactive = df[df.bioactivity_class == 'inactive']\n",
    "  inactive = inactive[descriptor]\n",
    "\n",
    "  #compare samples\n",
    "  stat, p = mannwhitneyu(active, inactive)\n",
    "  #print('Statistics=%.3f, p=%.3f' % (stat, p))\n",
    "\n",
    "  #interpret\n",
    "  alpha = 0.05\n",
    "  if p > alpha:\n",
    "    interpretation = 'Same distribution (fail to reject H0)'\n",
    "  else:\n",
    "    interpretation = 'Different distribution (reject H0)'\n",
    "  results = pd.DataFrame({'Descriptor': descriptor,\n",
    "                          'Statistics': stat,\n",
    "                          'p':p,\n",
    "                          'alpha':alpha,\n",
    "                          'Interpretation':interpretation}, index=[0])\n",
    "  filename = 'mannwhitneyu_'+descriptor+'.csv'\n",
    "  results.to_csv(filename)\n",
    "\n",
    "  return results\n"
   ]
  },
  {
   "cell_type": "code",
   "execution_count": 36,
   "metadata": {
    "colab": {
     "base_uri": "https://localhost:8080/",
     "height": 81
    },
    "executionInfo": {
     "elapsed": 383,
     "status": "ok",
     "timestamp": 1656518917217,
     "user": {
      "displayName": "Alyssa Imani",
      "userId": "15748760200900969572"
     },
     "user_tz": -420
    },
    "id": "5xMVreFgnQzn",
    "outputId": "4a284e17-5f5e-4e76-dbc3-61cfe2766040"
   },
   "outputs": [
    {
     "data": {
      "text/html": [
       "<div>\n",
       "<style scoped>\n",
       "    .dataframe tbody tr th:only-of-type {\n",
       "        vertical-align: middle;\n",
       "    }\n",
       "\n",
       "    .dataframe tbody tr th {\n",
       "        vertical-align: top;\n",
       "    }\n",
       "\n",
       "    .dataframe thead th {\n",
       "        text-align: right;\n",
       "    }\n",
       "</style>\n",
       "<table border=\"1\" class=\"dataframe\">\n",
       "  <thead>\n",
       "    <tr style=\"text-align: right;\">\n",
       "      <th></th>\n",
       "      <th>Descriptor</th>\n",
       "      <th>Statistics</th>\n",
       "      <th>p</th>\n",
       "      <th>alpha</th>\n",
       "      <th>Interpretation</th>\n",
       "    </tr>\n",
       "  </thead>\n",
       "  <tbody>\n",
       "    <tr>\n",
       "      <th>0</th>\n",
       "      <td>pIC50</td>\n",
       "      <td>882716.5</td>\n",
       "      <td>0.048372</td>\n",
       "      <td>0.05</td>\n",
       "      <td>Different distribution (reject H0)</td>\n",
       "    </tr>\n",
       "  </tbody>\n",
       "</table>\n",
       "</div>"
      ],
      "text/plain": [
       "  Descriptor  Statistics         p  alpha                      Interpretation\n",
       "0      pIC50    882716.5  0.048372   0.05  Different distribution (reject H0)"
      ]
     },
     "execution_count": 36,
     "metadata": {},
     "output_type": "execute_result"
    }
   ],
   "source": [
    "mannwhitney('pIC50')"
   ]
  },
  {
   "cell_type": "markdown",
   "metadata": {
    "id": "zV0T1HmpuE1C"
   },
   "source": [
    "**MW**"
   ]
  },
  {
   "cell_type": "code",
   "execution_count": 37,
   "metadata": {
    "colab": {
     "base_uri": "https://localhost:8080/",
     "height": 367
    },
    "executionInfo": {
     "elapsed": 399,
     "status": "ok",
     "timestamp": 1656518943164,
     "user": {
      "displayName": "Alyssa Imani",
      "userId": "15748760200900969572"
     },
     "user_tz": -420
    },
    "id": "yPyyftcglkov",
    "outputId": "3f847e1e-aef7-449f-b166-8337bf626254"
   },
   "outputs": [
    {
     "data": {
      "image/png": "[encoded data removed]",
      "text/plain": [
       "<Figure size 396x396 with 1 Axes>"
      ]
     },
     "metadata": {
      "needs_background": "light"
     },
     "output_type": "display_data"
    }
   ],
   "source": [
    "plt.figure(figsize=(5.5, 5.5))\n",
    "\n",
    "sns.boxplot(x='bioactivity_class', y='MW', data=df_2class)\n",
    "\n",
    "plt.xlabel('Bioactivity class', fontsize=14, fontweight='bold')\n",
    "plt.ylabel('MW', fontsize=14, fontweight='bold')\n",
    "\n",
    "plt.savefig('plot_MW.pdf')"
   ]
  },
  {
   "cell_type": "code",
   "execution_count": 38,
   "metadata": {
    "colab": {
     "base_uri": "https://localhost:8080/",
     "height": 81
    },
    "executionInfo": {
     "elapsed": 391,
     "status": "ok",
     "timestamp": 1656518954811,
     "user": {
      "displayName": "Alyssa Imani",
      "userId": "15748760200900969572"
     },
     "user_tz": -420
    },
    "id": "7BuyxLpoxivf",
    "outputId": "47e3729c-9017-46b2-e937-1de8f04f4d1e"
   },
   "outputs": [
    {
     "data": {
      "text/html": [
       "<div>\n",
       "<style scoped>\n",
       "    .dataframe tbody tr th:only-of-type {\n",
       "        vertical-align: middle;\n",
       "    }\n",
       "\n",
       "    .dataframe tbody tr th {\n",
       "        vertical-align: top;\n",
       "    }\n",
       "\n",
       "    .dataframe thead th {\n",
       "        text-align: right;\n",
       "    }\n",
       "</style>\n",
       "<table border=\"1\" class=\"dataframe\">\n",
       "  <thead>\n",
       "    <tr style=\"text-align: right;\">\n",
       "      <th></th>\n",
       "      <th>Descriptor</th>\n",
       "      <th>Statistics</th>\n",
       "      <th>p</th>\n",
       "      <th>alpha</th>\n",
       "      <th>Interpretation</th>\n",
       "    </tr>\n",
       "  </thead>\n",
       "  <tbody>\n",
       "    <tr>\n",
       "      <th>0</th>\n",
       "      <td>MW</td>\n",
       "      <td>823729.0</td>\n",
       "      <td>0.000001</td>\n",
       "      <td>0.05</td>\n",
       "      <td>Different distribution (reject H0)</td>\n",
       "    </tr>\n",
       "  </tbody>\n",
       "</table>\n",
       "</div>"
      ],
      "text/plain": [
       "  Descriptor  Statistics         p  alpha                      Interpretation\n",
       "0         MW    823729.0  0.000001   0.05  Different distribution (reject H0)"
      ]
     },
     "execution_count": 38,
     "metadata": {},
     "output_type": "execute_result"
    }
   ],
   "source": [
    "mannwhitney('MW')"
   ]
  },
  {
   "cell_type": "markdown",
   "metadata": {
    "id": "exPEwHc4yvtD"
   },
   "source": [
    "**LogP**"
   ]
  },
  {
   "cell_type": "code",
   "execution_count": 39,
   "metadata": {
    "colab": {
     "base_uri": "https://localhost:8080/",
     "height": 367
    },
    "executionInfo": {
     "elapsed": 507,
     "status": "ok",
     "timestamp": 1656518961032,
     "user": {
      "displayName": "Alyssa Imani",
      "userId": "15748760200900969572"
     },
     "user_tz": -420
    },
    "id": "3zpcA668x3ij",
    "outputId": "3b3bf9de-bcb8-4e8b-db18-c83b4fce9088"
   },
   "outputs": [
    {
     "data": {
      "image/png": "[encoded data removed]",
      "text/plain": [
       "<Figure size 396x396 with 1 Axes>"
      ]
     },
     "metadata": {
      "needs_background": "light"
     },
     "output_type": "display_data"
    }
   ],
   "source": [
    "plt.figure(figsize=(5.5, 5.5))\n",
    "\n",
    "sns.boxplot(x='bioactivity_class', y='LogP', data=df_2class)\n",
    "\n",
    "plt.xlabel('Bioactivity class', fontsize=14, fontweight='bold')\n",
    "plt.ylabel('LogP', fontsize=14, fontweight='bold')\n",
    "\n",
    "plt.savefig('plot_LogP.pdf')"
   ]
  },
  {
   "cell_type": "code",
   "execution_count": 40,
   "metadata": {
    "colab": {
     "base_uri": "https://localhost:8080/",
     "height": 81
    },
    "executionInfo": {
     "elapsed": 8,
     "status": "ok",
     "timestamp": 1656518963786,
     "user": {
      "displayName": "Alyssa Imani",
      "userId": "15748760200900969572"
     },
     "user_tz": -420
    },
    "id": "ar68kbfvyOTh",
    "outputId": "4024d0ac-6e3b-4029-dd2d-6b8d07fc5226"
   },
   "outputs": [
    {
     "data": {
      "text/html": [
       "<div>\n",
       "<style scoped>\n",
       "    .dataframe tbody tr th:only-of-type {\n",
       "        vertical-align: middle;\n",
       "    }\n",
       "\n",
       "    .dataframe tbody tr th {\n",
       "        vertical-align: top;\n",
       "    }\n",
       "\n",
       "    .dataframe thead th {\n",
       "        text-align: right;\n",
       "    }\n",
       "</style>\n",
       "<table border=\"1\" class=\"dataframe\">\n",
       "  <thead>\n",
       "    <tr style=\"text-align: right;\">\n",
       "      <th></th>\n",
       "      <th>Descriptor</th>\n",
       "      <th>Statistics</th>\n",
       "      <th>p</th>\n",
       "      <th>alpha</th>\n",
       "      <th>Interpretation</th>\n",
       "    </tr>\n",
       "  </thead>\n",
       "  <tbody>\n",
       "    <tr>\n",
       "      <th>0</th>\n",
       "      <td>LogP</td>\n",
       "      <td>859996.5</td>\n",
       "      <td>0.002051</td>\n",
       "      <td>0.05</td>\n",
       "      <td>Different distribution (reject H0)</td>\n",
       "    </tr>\n",
       "  </tbody>\n",
       "</table>\n",
       "</div>"
      ],
      "text/plain": [
       "  Descriptor  Statistics         p  alpha                      Interpretation\n",
       "0       LogP    859996.5  0.002051   0.05  Different distribution (reject H0)"
      ]
     },
     "execution_count": 40,
     "metadata": {},
     "output_type": "execute_result"
    }
   ],
   "source": [
    "mannwhitney('LogP')"
   ]
  },
  {
   "cell_type": "markdown",
   "metadata": {
    "id": "U1_r99owy5b5"
   },
   "source": [
    "**NumHDonors**"
   ]
  },
  {
   "cell_type": "code",
   "execution_count": 41,
   "metadata": {
    "colab": {
     "base_uri": "https://localhost:8080/",
     "height": 367
    },
    "executionInfo": {
     "elapsed": 384,
     "status": "ok",
     "timestamp": 1656518967886,
     "user": {
      "displayName": "Alyssa Imani",
      "userId": "15748760200900969572"
     },
     "user_tz": -420
    },
    "id": "ZpNZXBI9y2Wr",
    "outputId": "29a21a68-e4ba-48b5-b151-404423653b83"
   },
   "outputs": [
    {
     "data": {
      "image/png": "[encoded data removed]",
      "text/plain": [
       "<Figure size 396x396 with 1 Axes>"
      ]
     },
     "metadata": {
      "needs_background": "light"
     },
     "output_type": "display_data"
    }
   ],
   "source": [
    "plt.figure(figsize=(5.5, 5.5))\n",
    "\n",
    "sns.boxplot(x='bioactivity_class', y='NumHDonors', data=df_2class)\n",
    "\n",
    "plt.xlabel('Bioactivity class', fontsize=14, fontweight='bold')\n",
    "plt.ylabel('NumHDonors', fontsize=14, fontweight='bold')\n",
    "\n",
    "plt.savefig('plot_NumHDonors.pdf')"
   ]
  },
  {
   "cell_type": "code",
   "execution_count": 42,
   "metadata": {
    "colab": {
     "base_uri": "https://localhost:8080/",
     "height": 81
    },
    "executionInfo": {
     "elapsed": 378,
     "status": "ok",
     "timestamp": 1656519032895,
     "user": {
      "displayName": "Alyssa Imani",
      "userId": "15748760200900969572"
     },
     "user_tz": -420
    },
    "id": "8hKUZABGzPDJ",
    "outputId": "e0dd4db5-84ac-4cee-ae7b-14a5bd8d9687"
   },
   "outputs": [
    {
     "data": {
      "text/html": [
       "<div>\n",
       "<style scoped>\n",
       "    .dataframe tbody tr th:only-of-type {\n",
       "        vertical-align: middle;\n",
       "    }\n",
       "\n",
       "    .dataframe tbody tr th {\n",
       "        vertical-align: top;\n",
       "    }\n",
       "\n",
       "    .dataframe thead th {\n",
       "        text-align: right;\n",
       "    }\n",
       "</style>\n",
       "<table border=\"1\" class=\"dataframe\">\n",
       "  <thead>\n",
       "    <tr style=\"text-align: right;\">\n",
       "      <th></th>\n",
       "      <th>Descriptor</th>\n",
       "      <th>Statistics</th>\n",
       "      <th>p</th>\n",
       "      <th>alpha</th>\n",
       "      <th>Interpretation</th>\n",
       "    </tr>\n",
       "  </thead>\n",
       "  <tbody>\n",
       "    <tr>\n",
       "      <th>0</th>\n",
       "      <td>NumHDonors</td>\n",
       "      <td>850778.5</td>\n",
       "      <td>0.000198</td>\n",
       "      <td>0.05</td>\n",
       "      <td>Different distribution (reject H0)</td>\n",
       "    </tr>\n",
       "  </tbody>\n",
       "</table>\n",
       "</div>"
      ],
      "text/plain": [
       "   Descriptor  Statistics         p  alpha                      Interpretation\n",
       "0  NumHDonors    850778.5  0.000198   0.05  Different distribution (reject H0)"
      ]
     },
     "execution_count": 42,
     "metadata": {},
     "output_type": "execute_result"
    }
   ],
   "source": [
    "mannwhitney('NumHDonors')"
   ]
  },
  {
   "cell_type": "markdown",
   "metadata": {
    "id": "u2_NuKhM12sO"
   },
   "source": [
    "**NumHAcceptors**"
   ]
  },
  {
   "cell_type": "code",
   "execution_count": 43,
   "metadata": {
    "colab": {
     "base_uri": "https://localhost:8080/",
     "height": 367
    },
    "executionInfo": {
     "elapsed": 403,
     "status": "ok",
     "timestamp": 1656519038569,
     "user": {
      "displayName": "Alyssa Imani",
      "userId": "15748760200900969572"
     },
     "user_tz": -420
    },
    "id": "TJxoOIfV15b2",
    "outputId": "c18a9e76-fe6f-473e-86e4-ff2df68ba929"
   },
   "outputs": [
    {
     "data": {
      "image/png": "[encoded data removed]",
      "text/plain": [
       "<Figure size 396x396 with 1 Axes>"
      ]
     },
     "metadata": {
      "needs_background": "light"
     },
     "output_type": "display_data"
    }
   ],
   "source": [
    "plt.figure(figsize=(5.5, 5.5))\n",
    "\n",
    "sns.boxplot(x='bioactivity_class', y='NumHAcceptors', data=df_2class)\n",
    "\n",
    "plt.xlabel('Bioactivity class', fontsize=14, fontweight='bold')\n",
    "plt.ylabel('NumHAcceptors', fontsize=14, fontweight='bold')\n",
    "\n",
    "plt.savefig('plot_NumHAcceptors.pdf')"
   ]
  },
  {
   "cell_type": "code",
   "execution_count": 44,
   "metadata": {
    "colab": {
     "base_uri": "https://localhost:8080/",
     "height": 81
    },
    "executionInfo": {
     "elapsed": 323,
     "status": "ok",
     "timestamp": 1656519046292,
     "user": {
      "displayName": "Alyssa Imani",
      "userId": "15748760200900969572"
     },
     "user_tz": -420
    },
    "id": "1KI8J8gH2Akt",
    "outputId": "c464677f-da7e-4201-c58e-f889cc0b21d9"
   },
   "outputs": [
    {
     "data": {
      "text/html": [
       "<div>\n",
       "<style scoped>\n",
       "    .dataframe tbody tr th:only-of-type {\n",
       "        vertical-align: middle;\n",
       "    }\n",
       "\n",
       "    .dataframe tbody tr th {\n",
       "        vertical-align: top;\n",
       "    }\n",
       "\n",
       "    .dataframe thead th {\n",
       "        text-align: right;\n",
       "    }\n",
       "</style>\n",
       "<table border=\"1\" class=\"dataframe\">\n",
       "  <thead>\n",
       "    <tr style=\"text-align: right;\">\n",
       "      <th></th>\n",
       "      <th>Descriptor</th>\n",
       "      <th>Statistics</th>\n",
       "      <th>p</th>\n",
       "      <th>alpha</th>\n",
       "      <th>Interpretation</th>\n",
       "    </tr>\n",
       "  </thead>\n",
       "  <tbody>\n",
       "    <tr>\n",
       "      <th>0</th>\n",
       "      <td>NumHAcceptors</td>\n",
       "      <td>879139.0</td>\n",
       "      <td>0.028911</td>\n",
       "      <td>0.05</td>\n",
       "      <td>Different distribution (reject H0)</td>\n",
       "    </tr>\n",
       "  </tbody>\n",
       "</table>\n",
       "</div>"
      ],
      "text/plain": [
       "      Descriptor  Statistics         p  alpha  \\\n",
       "0  NumHAcceptors    879139.0  0.028911   0.05   \n",
       "\n",
       "                       Interpretation  \n",
       "0  Different distribution (reject H0)  "
      ]
     },
     "execution_count": 44,
     "metadata": {},
     "output_type": "execute_result"
    }
   ],
   "source": [
    "mannwhitney('NumHAcceptors')"
   ]
  },
  {
   "cell_type": "markdown",
   "metadata": {
    "id": "VD5qgC71zhtL"
   },
   "source": [
    "**Interpretation of Statistical Result**"
   ]
  },
  {
   "cell_type": "markdown",
   "metadata": {
    "id": "Ag8EGqHtz1Fo"
   },
   "source": [
    "**pIC50 values**\n",
    "\n",
    "The actives and inactives displayed **statistically significant difference**, which is to be expected since threshold values (IC50 1,000 nM = Actives while IC50 > 10,000 nM = Inactives, corresponding to pIC50 > 6 = Actives and pIC50 < 5 = Inactives) were used to define actives and inactives.\n"
   ]
  },
  {
   "cell_type": "markdown",
   "metadata": {
    "id": "YWxQ3VsA0jFB"
   },
   "source": [
    "**Lipinski's descriptors**\n",
    "\n",
    "4 lipinski's descriptors(Mw, LogP, NumHDonors and NumHAcceptors) all show **statistically significant difference** between actives and inactives."
   ]
  }
 ],
 "metadata": {
  "colab": {
   "authorship_tag": "ABX9TyNCD3kFK6O21Fj0gelahipP",
   "collapsed_sections": [],
   "name": "Drug Discovery_acetylcholinesterase - Exploratory Data Analysis.ipynb",
   "provenance": [
    {
     "file_id": "1YA6erzBR7d7ePkgS0pPmW4h7Z6wZGDmT",
     "timestamp": 1656514416244
    }
   ]
  },
  "kernelspec": {
   "display_name": "Python 3 (ipykernel)",
   "language": "python",
   "name": "python3"
  },
  "language_info": {
   "codemirror_mode": {
    "name": "ipython",
    "version": 3
   },
   "file_extension": ".py",
   "mimetype": "text/x-python",
   "name": "python",
   "nbconvert_exporter": "python",
   "pygments_lexer": "ipython3",
   "version": "3.10.5"
  }
 },
 "nbformat": 4,
 "nbformat_minor": 1
}
